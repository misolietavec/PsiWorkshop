{
 "cells": [
  {
   "cell_type": "markdown",
   "metadata": {
    "tags": []
   },
   "source": [
    "# Kde Psi v meste (Prešov, Žilina, Martin) žijú \n"
   ]
  },
  {
   "cell_type": "code",
   "execution_count": null,
   "metadata": {},
   "outputs": [],
   "source": [
    "from psiapomoc import nacitajPsov, psiNaUlici, psiPlemena, psiMesta, psieUlice\n",
    "import panel as pn\n",
    "import panel.widgets as pnw\n",
    "pn.extension()"
   ]
  },
  {
   "cell_type": "markdown",
   "metadata": {},
   "source": [
    "### Dáta o psoch sme zobrali z [http://pomosam.sk](http://pomosam.sk)"
   ]
  },
  {
   "cell_type": "code",
   "execution_count": null,
   "metadata": {},
   "outputs": [],
   "source": [
    "mesto = \"martin\"\n",
    "\n",
    "Psi = nacitajPsov(mesto,True)\n",
    "Plemena = psiPlemena(mesto,Psi)\n",
    "Ulice = psieUlice(mesto,Psi)"
   ]
  },
  {
   "cell_type": "code",
   "execution_count": null,
   "metadata": {},
   "outputs": [],
   "source": [
    "ulica_vyber = pnw.Select(options=Ulice)\n",
    "plemeno_vyber = pnw.Select(options=Plemena)\n",
    "# mesto_vyber = pnw.RadioButtonGroup(options={\"Martin\":\"martin\",\"Žilina\":\"zilina\",\"Prešov\":\"presov\",})\n",
    "\n",
    "@pn.depends(ulica_vyber)\n",
    "def psi_ulica(ulica_vyber):\n",
    "    res = psiNaUlici(mesto,Psi,ulica_vyber,mapa=True)\n",
    "    if type(res) is str:\n",
    "        if res == \"niepsi\":\n",
    "            return pn.pane.HTML(\"<center><h2>Nie sú tu psi.</h2></center>\",width=1000,height=600)\n",
    "        return pn.pane.HTML(\"<center><h2>Problém s menom ulice, nie je v DB.</h2></center>\",width=1000,height=600)\n",
    "    ul_map = res\n",
    "    return ul_map\n",
    "\n",
    "@pn.depends(plemeno_vyber)\n",
    "def psi_plemeno(plemeno_vyber):\n",
    "    ul_map = psiMesta(mesto,Psi,plemeno_vyber,mapa=True)\n",
    "    return ul_map"
   ]
  },
  {
   "cell_type": "code",
   "execution_count": null,
   "metadata": {},
   "outputs": [],
   "source": [
    "podla_ulice = pn.Row(pn.Column(ulica_vyber),pn.panel(psi_ulica,width=1000,height=600,align=\"center\"))\n",
    "podla_plemena = pn.Row(pn.Column(plemeno_vyber),pn.panel(psi_plemeno,width=1000,height=600,align=\"center\"))"
   ]
  },
  {
   "cell_type": "code",
   "execution_count": null,
   "metadata": {},
   "outputs": [],
   "source": [
    "nadpis_celkovy = pn.Row(pn.Spacer(width=100),\n",
    "                        pn.pane.Markdown(\"##Psi v meste (Prešov, Žilina, Martin)<br><br>\",width=500))\n",
    "tabs = pn.Tabs((\"Podľa ulíc\",podla_ulice),(\"Podľa plemien\",podla_plemena),\n",
    "                dynamic=True,tabs_location=\"above\")\n",
    "appka = pn.Column(nadpis_celkovy,pn.Row(pn.Spacer(width=50),tabs))\n",
    "appka.servable(title=\"Psi v meste\")"
   ]
  },
  {
   "cell_type": "code",
   "execution_count": null,
   "metadata": {},
   "outputs": [],
   "source": [
    "Cdict, Polohy, Popy = psiMesta(mesto,Psi,\"Americký stafortsh. terier\")"
   ]
  },
  {
   "cell_type": "code",
   "execution_count": null,
   "metadata": {},
   "outputs": [],
   "source": [
    "Polohy"
   ]
  },
  {
   "cell_type": "code",
   "execution_count": null,
   "metadata": {},
   "outputs": [],
   "source": []
  }
 ],
 "metadata": {
  "kernelspec": {
   "display_name": "Python 3 (ipykernel)",
   "language": "python",
   "name": "python3"
  },
  "language_info": {
   "codemirror_mode": {
    "name": "ipython",
    "version": 3
   },
   "file_extension": ".py",
   "mimetype": "text/x-python",
   "name": "python",
   "nbconvert_exporter": "python",
   "pygments_lexer": "ipython3",
   "version": "3.10.5"
  }
 },
 "nbformat": 4,
 "nbformat_minor": 4
}

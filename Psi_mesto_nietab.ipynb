{
 "cells": [
  {
   "cell_type": "markdown",
   "metadata": {
    "tags": []
   },
   "source": [
    "# Psi v meste (Prešov, Žilina, Martin) "
   ]
  },
  {
   "cell_type": "code",
   "execution_count": null,
   "metadata": {},
   "outputs": [],
   "source": [
    "from psiapomoc import psiNaUlici, psiMesta, mesta\n",
    "import panel as pn\n",
    "import panel.widgets as pnw\n",
    "pn.extension(template=\"fast\")"
   ]
  },
  {
   "cell_type": "markdown",
   "metadata": {},
   "source": [
    "### Dáta o psoch sme zobrali z [http://pomosam.sk](http://pomosam.sk)"
   ]
  },
  {
   "cell_type": "code",
   "execution_count": null,
   "metadata": {},
   "outputs": [],
   "source": [
    "mesto_vyber = pnw.RadioButtonGroup(options={\"Martin\": \"martin\", \"Žilina\": \"zilina\", \"Prešov\": \"presov\"}, value=\"martin\", width=500)\n",
    "\n",
    "ulica_vyber = pnw.Select(options=mesta['martin']['ulice'])\n",
    "\n",
    "plemeno_vyber = pnw.Select(options=mesta['martin']['plemena'], disabled = True)\n",
    "\n",
    "zobraz_vyber = pnw.RadioBoxGroup(options={\"Ulice\": \"ulice\", \"Plemená\": \"plemena\"}, value=\"ulice\")\n",
    "\n",
    "@pn.depends(mesto_vyber.param.value, watch=True)\n",
    "def update_data_mesta(mesto_vyber):\n",
    "    data = mesta[mesto_vyber]\n",
    "    ulica_vyber.options = data['ulice']\n",
    "    plemeno_vyber.options = data['plemena']\n",
    "    if plemeno_vyber.value not in plemeno_vyber.options:\n",
    "        plemeno_vyber.value = data['plemena'][0]\n",
    "\n",
    "\n",
    "@pn.depends(zobraz_vyber.param.value, watch=True)\n",
    "def update_ulice_plemena(zobraz_vyber):\n",
    "    if zobraz_vyber == \"ulice\":\n",
    "        plemeno_vyber.disabled = True\n",
    "        ulica_vyber.disabled = False\n",
    "    else:\n",
    "        ulica_vyber.disabled = True\n",
    "        plemeno_vyber.disabled = False\n",
    "        dv = mesta[mesto_vyber.value]\n",
    "        plemeno_vyber.options = dv['plemena']\n",
    "        # plemeno_vyber.value = mesta[mesto_vyber.value]['plemena'][0]"
   ]
  },
  {
   "cell_type": "code",
   "execution_count": null,
   "metadata": {},
   "outputs": [],
   "source": [
    "@pn.depends(ulica_vyber, plemeno_vyber, zobraz_vyber,mesto_vyber)\n",
    "def psi_zobraz(ulica_vyber, plemeno_vyber, zobraz_vyber, mesto_vyber):\n",
    "    mv = mesto_vyber\n",
    "    if zobraz_vyber == \"ulice\":\n",
    "        res = psiNaUlici(mv, mesta[mv]['psi'], ulica_vyber, mapa=True)\n",
    "        if type(res) is str:\n",
    "            if res == \"niepsi\":\n",
    "                return pn.pane.HTML(\"<center><h2>Nie sú tu psi.</h2></center>\", width=1000, height=600)\n",
    "            return pn.pane.HTML(\"<center><h2>Problém s menom ulice, nie je v DB.</h2></center>\", width=1000, height=600)\n",
    "        return res    # ul_map\n",
    "    else:\n",
    "        ul_map = psiMesta(mv, mesta[mv]['psi'], plemeno_vyber, mapa=True)\n",
    "        return ul_map"
   ]
  },
  {
   "cell_type": "code",
   "execution_count": null,
   "metadata": {},
   "outputs": [],
   "source": [
    "ovladace = pn.Column(zobraz_vyber, ulica_vyber, plemeno_vyber)\n",
    "zobrazenie = pn.panel(psi_zobraz, width=1000, height=600, align=\"center\")\n"
   ]
  },
  {
   "cell_type": "code",
   "execution_count": null,
   "metadata": {},
   "outputs": [],
   "source": [
    "nadpis_celkovy = pn.Row(pn.Spacer(width=100),\n",
    "                        pn.pane.Markdown(\"##Psi v meste (Prešov, Žilina, Martin)<br><br>\", width=500))\n",
    "appka = pn.Column(nadpis_celkovy, mesto_vyber, pn.Row(pn.Spacer(width=50), ovladace, zobrazenie))\n",
    "appka.servable(title=\"Psi v meste\")"
   ]
  }
 ],
 "metadata": {
  "kernelspec": {
   "display_name": "Python 3 (ipykernel)",
   "language": "python",
   "name": "python3"
  },
  "language_info": {
   "codemirror_mode": {
    "name": "ipython",
    "version": 3
   },
   "file_extension": ".py",
   "mimetype": "text/x-python",
   "name": "python",
   "nbconvert_exporter": "python",
   "pygments_lexer": "ipython3",
   "version": "3.10.5"
  }
 },
 "nbformat": 4,
 "nbformat_minor": 4
}

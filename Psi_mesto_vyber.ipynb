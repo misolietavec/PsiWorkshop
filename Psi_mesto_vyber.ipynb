{
 "cells": [
  {
   "cell_type": "markdown",
   "metadata": {
    "tags": []
   },
   "source": [
    "# Psi v meste (Prešov, Žilina, Martin) "
   ]
  },
  {
   "cell_type": "code",
   "execution_count": null,
   "metadata": {},
   "outputs": [],
   "source": [
    "from psiapomoc import psiNaUlici, psiMesta, mesta\n",
    "import panel as pn\n",
    "import panel.widgets as pnw\n",
    "pn.extension()"
   ]
  },
  {
   "cell_type": "markdown",
   "metadata": {},
   "source": [
    "### Dáta o psoch sme zobrali z [http://pomosam.sk](http://pomosam.sk)"
   ]
  },
  {
   "cell_type": "code",
   "execution_count": null,
   "metadata": {},
   "outputs": [],
   "source": [
    "mesto_vyber_u = pnw.RadioButtonGroup(options={\"Martin\": \"martin\", \"Žilina\": \"zilina\", \"Prešov\": \"presov\"}, value=\"martin\", width=300)\n",
    "mesto_vyber_p = pnw.RadioButtonGroup(options={\"Martin\": \"martin\", \"Žilina\": \"zilina\", \"Prešov\": \"presov\"}, value=\"martin\", width=300)\n",
    "\n",
    "ulica_vyber = pnw.Select(options=mesta['martin']['ulice'])\n",
    "\n",
    "plemeno_vyber = pnw.Select(options=mesta['martin']['plemena'])\n",
    "\n",
    "@pn.depends(mesto_vyber_u.param.value, watch=True)\n",
    "def _update_ulice(mesto_vyber_u):\n",
    "    data = mesta[mesto_vyber_u]\n",
    "    ulica_vyber.options = data['ulice']\n",
    "    ulica_vyber.value = data['ulice'][0]\n",
    "\n",
    "\n",
    "@pn.depends(mesto_vyber_p.param.value, watch=True)\n",
    "def _update_plemena(mesto_vyber_p):\n",
    "    data = mesta[mesto_vyber_p]\n",
    "    plemeno_vyber.options = data['plemena']\n",
    "    plemeno_vyber.value = data['plemena'][0]"
   ]
  },
  {
   "cell_type": "code",
   "execution_count": null,
   "metadata": {},
   "outputs": [],
   "source": [
    "@pn.depends(ulica_vyber, mesto_vyber_u)\n",
    "def psi_ulica(ulica_vyber,mesto_vyber_u):\n",
    "    return psiNaUlici(mesto_vyber_u, ulica_vyber, mapa=True)\n",
    "\n",
    "\n",
    "@pn.depends(plemeno_vyber, mesto_vyber_p)\n",
    "def psi_plemeno(plemeno_vyber, mesto_vyber_p):\n",
    "    return psiMesta(mesto_vyber_p, plemeno_vyber, mapa=True)"
   ]
  },
  {
   "cell_type": "code",
   "execution_count": null,
   "metadata": {},
   "outputs": [],
   "source": [
    "podla_ulice = pn.Row(pn.Column(mesto_vyber_u, ulica_vyber), pn.panel(psi_ulica, width=1000, height=600, align=\"center\"))\n",
    "podla_plemena = pn.Row(pn.Column(mesto_vyber_p, plemeno_vyber), pn.panel(psi_plemeno, width=1000, height=600, align=\"center\"))"
   ]
  },
  {
   "cell_type": "code",
   "execution_count": null,
   "metadata": {},
   "outputs": [],
   "source": [
    "nadpis_celkovy = pn.Row(pn.Spacer(width=100),\n",
    "                        pn.pane.Markdown(\"##Psi v meste (Prešov, Žilina, Martin)<br><br>\", width=500))\n",
    "tabs = pn.Tabs((\"Podľa ulíc\", podla_ulice), (\"Podľa plemien\", podla_plemena),\n",
    "               dynamic=True, tabs_location=\"above\")\n",
    "appka = pn.Column(nadpis_celkovy, pn.Row(pn.Spacer(width=50), tabs))\n",
    "appka.servable(title=\"Psi v meste\")"
   ]
  },
  {
   "cell_type": "code",
   "execution_count": null,
   "metadata": {},
   "outputs": [],
   "source": []
  }
 ],
 "metadata": {
  "kernelspec": {
   "display_name": "Python 3 (ipykernel)",
   "language": "python",
   "name": "python3"
  },
  "language_info": {
   "codemirror_mode": {
    "name": "ipython",
    "version": 3
   },
   "file_extension": ".py",
   "mimetype": "text/x-python",
   "name": "python",
   "nbconvert_exporter": "python",
   "pygments_lexer": "ipython3",
   "version": "3.10.5"
  }
 },
 "nbformat": 4,
 "nbformat_minor": 4
}
